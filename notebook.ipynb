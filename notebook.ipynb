{
 "cells": [
  {
   "cell_type": "code",
   "execution_count": 6,
   "metadata": {},
   "outputs": [],
   "source": [
    "import json\n",
    "import requests\n",
    "from typing import Any, List, Mapping, Optional\n",
    "\n",
    "from langchain.llms.base import LLM\n",
    "from langchain.callbacks.manager import CallbackManagerForLLMRun"
   ]
  },
  {
   "cell_type": "code",
   "execution_count": 7,
   "metadata": {},
   "outputs": [],
   "source": [
    "class CustomLLM(LLM):\n",
    "\n",
    "    @property\n",
    "    def _llm_type(self) -> str:\n",
    "        return \"custom\"\n",
    "    \n",
    "    def make_api_call(self, prompt: str):\n",
    "        URL = \"http://127.0.0.1:12000\"\n",
    "        payload = json.dumps({'prompt': prompt})\n",
    "        try:\n",
    "            response = requests.post(URL, payload)\n",
    "        except ConnectionError:\n",
    "            raise ConnectionError()\n",
    "\n",
    "        output = json.loads(response.text)\n",
    "        return output\n",
    "\n",
    "    def _call(\n",
    "        self,\n",
    "        prompt: str,\n",
    "        stop: Optional[List[str]] = None,\n",
    "        run_manager: Optional[CallbackManagerForLLMRun] = None,\n",
    "    ) -> str:\n",
    "        if stop is not None:\n",
    "            raise ValueError(\"stop kwargs are not permitted.\")\n",
    "        return self.make_api_call(prompt)\n",
    "\n",
    "    @property\n",
    "    def _identifying_params(self) -> Mapping[str, Any]:\n",
    "        \"\"\"Get the identifying parameters.\"\"\"\n",
    "        return {\"model\": \"custom\"}"
   ]
  },
  {
   "cell_type": "code",
   "execution_count": 9,
   "metadata": {},
   "outputs": [
    {
     "data": {
      "text/plain": [
       "\", welcome to my profile! I'm a friendly and outgoing individual who loves meeting new people and making connections. I'm always up for a good conversation, so feel free to reach out and say hello!\\nI enjoy a wide range of hobbies and interests, from hiking and camping to trying new restaurants and breweries. I'm also a big fan of live music and comedy shows. If you have any recommendations for things to do or see in my area, I would love to hear them!\\nIn addition to my hobbies, I'm also passionate about my career and am always looking for new opportunities to learn and grow. I'm a quick learner and enjoy working in a team environment. If you have any advice or connections in your industry, I would greatly appreciate it!\\nAnyway, enough about me for now. I can't wait to hear more about YOU! What brings you here? What are your hobbies and interests? Let's get to know each other and make some new connections! \""
      ]
     },
     "execution_count": 9,
     "metadata": {},
     "output_type": "execute_result"
    }
   ],
   "source": [
    "model = CustomLLM()\n",
    "model('hey there')"
   ]
  },
  {
   "cell_type": "code",
   "execution_count": null,
   "metadata": {},
   "outputs": [],
   "source": []
  }
 ],
 "metadata": {
  "kernelspec": {
   "display_name": "nlp",
   "language": "python",
   "name": "python3"
  },
  "language_info": {
   "codemirror_mode": {
    "name": "ipython",
    "version": 3
   },
   "file_extension": ".py",
   "mimetype": "text/x-python",
   "name": "python",
   "nbconvert_exporter": "python",
   "pygments_lexer": "ipython3",
   "version": "3.11.4"
  },
  "orig_nbformat": 4
 },
 "nbformat": 4,
 "nbformat_minor": 2
}
